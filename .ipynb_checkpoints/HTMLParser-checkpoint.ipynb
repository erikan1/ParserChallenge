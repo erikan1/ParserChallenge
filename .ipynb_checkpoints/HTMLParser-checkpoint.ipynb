{
 "cells": [
  {
   "cell_type": "code",
   "execution_count": 1,
   "metadata": {},
   "outputs": [],
   "source": [
    "from html.parser import HTMLParser"
   ]
  },
  {
   "cell_type": "code",
   "execution_count": 2,
   "metadata": {
    "scrolled": false
   },
   "outputs": [
    {
     "name": "stdout",
     "output_type": "stream",
     "text": [
      "meta: https://scooptacular.net\n",
      "meta: https://scooptacular.net/img/uploaded/379d05029c0d84618c70ac037a25fd88.jpg\n",
      "meta: https://scooptacular.net/img/uploaded/4baaa58a1a37fd3da3e4e78caf366b7f.jpg\n",
      "link: css/bootstrap.min.css\n",
      "link: css/agency.css\n",
      "link: font-awesome-4.1.0/css/font-awesome.min.css\n",
      "link: https://fonts.googleapis.com/css?family=Montserrat:400,700\n",
      "link: https://fonts.googleapis.com/css?family=Kaushan+Script\n",
      "link: https://fonts.googleapis.com/css?family=Droid+Serif:400,700,400italic,700italic\n",
      "link: https://fonts.googleapis.com/css?family=Roboto+Slab:400,100,300,700\n",
      "link: css/bootstrap-formhelpers.min.css\n",
      "script: https://js.braintreegateway.com/v2/braintree.js\n"
     ]
    }
   ],
   "source": [
    "class HeadParser(HTMLParser):\n",
    "\n",
    "    def handle_starttag(self, tag, attrs):\n",
    "        for attr in attrs:\n",
    "            if \"https\" in attr[1]:\n",
    "                print('{0}: {1}'.format(tag, attr[1]))\n",
    "            elif attr[0] in ['href', 'src']:\n",
    "                print('{0}: {1}'.format(tag, attr[1]))                \n",
    "\n",
    "website = open(\"./head.html\").read()\n",
    "HeadParser().feed(website)"
   ]
  },
  {
   "cell_type": "code",
   "execution_count": null,
   "metadata": {},
   "outputs": [],
   "source": []
  }
 ],
 "metadata": {
  "kernelspec": {
   "display_name": "Python 3",
   "language": "python",
   "name": "python3"
  },
  "language_info": {
   "codemirror_mode": {
    "name": "ipython",
    "version": 3
   },
   "file_extension": ".py",
   "mimetype": "text/x-python",
   "name": "python",
   "nbconvert_exporter": "python",
   "pygments_lexer": "ipython3",
   "version": "3.6.5"
  }
 },
 "nbformat": 4,
 "nbformat_minor": 2
}
